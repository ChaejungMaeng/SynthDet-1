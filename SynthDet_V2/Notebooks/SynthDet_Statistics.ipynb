version https://git-lfs.github.com/spec/v1
oid sha256:876c8e6f7cb02c0c966dc9211bc9c9a67f7179f72763ed9a2d9c84053a6a54b1
size 27784
