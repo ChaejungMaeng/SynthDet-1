version https://git-lfs.github.com/spec/v1
oid sha256:d92af95ca9e7c9888a5efcada7eefda938cfe0a8f7ef4d0f51097fefd8a42870
size 3302294
