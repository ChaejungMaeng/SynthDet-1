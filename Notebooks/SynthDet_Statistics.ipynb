version https://git-lfs.github.com/spec/v1
oid sha256:6178181fa3254f578f3e467390a65e61f8eee9e224199679d2e7a92781fd3c80
size 40458
