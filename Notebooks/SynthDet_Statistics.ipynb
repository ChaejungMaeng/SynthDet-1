{
 "cells": [
  {
   "cell_type": "markdown",
   "metadata": {},
   "source": [
    "# Dataset Statistics for SynthDet\n",
    "This example notebook shows how to use datasetinsights to load synthetic datasets generated from the [Perception package](https://github.com/Unity-Technologies/com.unity.perception) and visualize dataset statistics. It includes statistics and visualizations of the outputs built into the Perception package and should give a good idea of how to use datasetinsights to visualize custom annotations and metrics.\n",
    "\n",
    "## Setup dataset\n",
    "If the dataset was generated locally, replace `<GUID>` below with the name of the dataset folder, e.g. `f3763556-355f-4303-9acd-32334fda51aa`. Otherwise, see the instructions below for downloading datasets from Unity Simulation."
   ]
  },
  {
   "cell_type": "code",
   "execution_count": null,
   "metadata": {
    "scrolled": true
   },
   "outputs": [],
   "source": [
    "data_root = \"</data/<GUID>\""
   ]
  },
  {
   "cell_type": "markdown",
   "metadata": {},
   "source": [
    "### Unity Simulation [Optional]\n",
    "If the dataset was generated on Unity Simulation, the following cells can be used to download the metrics needed for dataset statistics.\n",
    "\n",
    "Provide the `run-execution-id` which generated the dataset and a valid `access_token` in the following cell. The `access_token` can be generated using the Unity Simulation [CLI](https://github.com/Unity-Technologies/Unity-Simulation-Docs/blob/master/doc/cli.md#usim-inspect-auth)."
   ]
  },
  {
   "cell_type": "code",
   "execution_count": null,
   "metadata": {
    "scrolled": true
   },
   "outputs": [],
   "source": [
    "from datasetinsights.io.downloader import UnitySimulationDownloader\n",
    "\n",
    "#run execution id:\n",
    "# run_execution_id = \"xxx\"\n",
    "# #access_token:\n",
    "# access_token = \"xxx\"\n",
    "# #annotation definition id:\n",
    "# annotation_definition_id = \"6716c783-1c0e-44ae-b1b5-7f068454b66e\"\n",
    "# #unity project id\n",
    "# project_id = \"xxx\"\n",
    "# source_uri = f\"usim://{project_id}/{run_execution_id}\"\n",
    "\n",
    "# downloader = UnitySimulationDownloader(access_token=access_token)"
   ]
  },
  {
   "cell_type": "markdown",
   "metadata": {},
   "source": [
    "Before loading the dataset metadata for statistics we first download the relevant files from Unity Simulation.\n"
   ]
  },
  {
   "cell_type": "code",
   "execution_count": null,
   "metadata": {
    "scrolled": true
   },
   "outputs": [],
   "source": [
    "# downloader.download(source_uri=source_uri, output=data_root)"
   ]
  },
  {
   "cell_type": "markdown",
   "metadata": {},
   "source": [
    "## Load dataset metadata\n",
    "Once the dataset metadata is downloaded, it can be loaded for statistics using `datasetinsights.data.simulation`. Annotation and metric definitions are loaded into pandas dataframes using `AnnotationDefinitions` and `MetricDefinitions` respectively."
   ]
  },
  {
   "cell_type": "code",
   "execution_count": null,
   "metadata": {
    "scrolled": true
   },
   "outputs": [],
   "source": [
    "from datasetinsights.datasets.unity_perception import AnnotationDefinitions, MetricDefinitions\n",
    "ann_def = AnnotationDefinitions(data_root)\n",
    "ann_def.table"
   ]
  },
  {
   "cell_type": "code",
   "execution_count": null,
   "metadata": {
    "scrolled": true
   },
   "outputs": [],
   "source": [
    "metric_def = MetricDefinitions(data_root)\n",
    "metric_def.table"
   ]
  },
  {
   "cell_type": "markdown",
   "metadata": {},
   "source": [
    "## Built-in Statistics\n",
    "The following tables and charts are supplied by `datasetinsights.data.datasets.statistics.RenderedObjectInfo` on datasets that include the \"rendered object info\" metric."
   ]
  },
  {
   "cell_type": "code",
   "execution_count": null,
   "metadata": {
    "scrolled": true
   },
   "outputs": [],
   "source": [
    "from datasetinsights.stats.statistics import RenderedObjectInfo\n",
    "from datasetinsights.datasets.unity_perception.exceptions import DefinitionIDError\n",
    "from datasetinsights.stats import bar_plot, histogram_plot, rotation_plot\n",
    "\n",
    "max_samples = 10000          # maximum number of sample points used in histogram plots\n",
    "\n",
    "rendered_object_info_definition_id = \"659c6e36-f9f8-4dd6-9651-4a80e51eabc4\"\n",
    "roinfo = None\n",
    "try:\n",
    "    roinfo = RenderedObjectInfo(data_root=data_root, def_id=rendered_object_info_definition_id)\n",
    "except DefinitionIDError:\n",
    "    print(\"No RenderedObjectInfo in this dataset\")"
   ]
  },
  {
   "cell_type": "markdown",
   "metadata": {},
   "source": [
    "### Descriptive Statistics"
   ]
  },
  {
   "cell_type": "code",
   "execution_count": null,
   "metadata": {
    "scrolled": true
   },
   "outputs": [],
   "source": [
    "print(roinfo.num_captures())\n",
    "roinfo.raw_table.head(3)"
   ]
  },
  {
   "cell_type": "markdown",
   "metadata": {},
   "source": [
    "### Total Object Count"
   ]
  },
  {
   "cell_type": "code",
   "execution_count": null,
   "metadata": {
    "scrolled": true
   },
   "outputs": [],
   "source": [
    "total_count = roinfo.total_counts()\n",
    "display(total_count)\n",
    "\n",
    "display(bar_plot(\n",
    "    total_count, \n",
    "    x=\"label_id\", \n",
    "    y=\"count\", \n",
    "    x_title=\"Label Name\",\n",
    "    y_title=\"Count\",\n",
    "    title=\"Total Object Count in Dataset\",\n",
    "    hover_name=\"label_name\"\n",
    "))"
   ]
  },
  {
   "cell_type": "markdown",
   "metadata": {},
   "source": [
    "### Per Capture Object Count"
   ]
  },
  {
   "cell_type": "code",
   "execution_count": null,
   "metadata": {
    "scrolled": true
   },
   "outputs": [],
   "source": [
    "per_capture_count = roinfo.per_capture_counts()\n",
    "display(per_capture_count.head(10))"
   ]
  },
  {
   "cell_type": "code",
   "execution_count": null,
   "metadata": {
    "scrolled": true
   },
   "outputs": [],
   "source": [
    "display(histogram_plot(\n",
    "    per_capture_count, \n",
    "    x=\"count\",  \n",
    "    x_title=\"Object Counts Per Capture\",\n",
    "    y_title=\"Frequency\",\n",
    "    title=\"Distribution of Object Counts Per Capture\",\n",
    "    max_samples=max_samples\n",
    "))"
   ]
  },
  {
   "cell_type": "markdown",
   "metadata": {},
   "source": [
    "### Object Visible Pixels"
   ]
  },
  {
   "cell_type": "code",
   "execution_count": null,
   "metadata": {
    "scrolled": true
   },
   "outputs": [],
   "source": [
    "display(histogram_plot(\n",
    "    roinfo.raw_table, \n",
    "    x=\"visible_pixels\",  \n",
    "    x_title=\"Visible Pixels Per Object\",\n",
    "    y_title=\"Frequency\",\n",
    "    title=\"Distribution of Visible Pixels Per Object\",\n",
    "    max_samples=max_samples\n",
    "))"
   ]
  },
  {
   "cell_type": "markdown",
   "metadata": {},
   "source": [
    "## SynthDet Statistics\n",
    "Metrics specific to the simulation can be loaded using `datasetinsights.datasets.unity_perception.Metrics`. "
   ]
  },
  {
   "cell_type": "markdown",
   "metadata": {},
   "source": [
    "### Foreground placement info"
   ]
  },
  {
   "cell_type": "code",
   "execution_count": null,
   "metadata": {
    "scrolled": true
   },
   "outputs": [],
   "source": [
    "from datasetinsights.datasets.unity_perception import Metrics\n",
    "import pandas as pd\n",
    "\n",
    "metrics = Metrics(data_root=data_root)\n",
    "foreground_placement_info_definition_id = \"061e08cc-4428-4926-9933-a6732524b52b\"\n",
    "\n",
    "def read_foreground_placement_info(metrics=None, name=None, columns=None):\n",
    "    filtered_metrics = metrics.filter_metrics(foreground_placement_info_definition_id)\n",
    "    combined = pd.DataFrame(filtered_metrics[name].to_list(), columns=columns)\n",
    "    \n",
    "    return combined"
   ]
  },
  {
   "cell_type": "code",
   "execution_count": null,
   "metadata": {
    "scrolled": true
   },
   "outputs": [],
   "source": [
    "rot_columns = (\"x_rot\", \"y_rot\", \"z_rot\")\n",
    "orientation_info = read_foreground_placement_info(metrics=metrics, name=\"rotation\", columns=rot_columns)\n",
    "orientation_info.head(5)"
   ]
  },
  {
   "cell_type": "code",
   "execution_count": null,
   "metadata": {
    "scrolled": true
   },
   "outputs": [],
   "source": [
    "rotation_plot(\n",
    "    orientation_info,\n",
    "    x=\"x_rot\",\n",
    "    y=\"y_rot\",\n",
    "    z=\"z_rot\",\n",
    "    title=\"Object orientations\",\n",
    "    max_samples=max_samples\n",
    ")"
   ]
  },
  {
   "cell_type": "code",
   "execution_count": null,
   "metadata": {
    "scrolled": true
   },
   "outputs": [],
   "source": [
    "histogram_plot(\n",
    "    orientation_info, \n",
    "    x=\"x_rot\",  \n",
    "    x_title=\"Object Rotation (Degree)\",\n",
    "    y_title=\"Frequency\",\n",
    "    title=\"Distribution of Object Rotations along X direction\",\n",
    "    max_samples=max_samples\n",
    ")"
   ]
  },
  {
   "cell_type": "code",
   "execution_count": null,
   "metadata": {
    "scrolled": true
   },
   "outputs": [],
   "source": [
    "histogram_plot(\n",
    "    orientation_info, \n",
    "    x=\"y_rot\",  \n",
    "    x_title=\"Object Rotation (Degree)\",\n",
    "    y_title=\"Frequency\",\n",
    "    title=\"Distribution of Object Rotations along Y direction\",\n",
    "    max_samples=max_samples\n",
    ")"
   ]
  },
  {
   "cell_type": "markdown",
   "metadata": {},
   "source": [
    "### Foreground Scale Info"
   ]
  },
  {
   "cell_type": "code",
   "execution_count": null,
   "metadata": {
    "scrolled": true
   },
   "outputs": [],
   "source": [
    "scale_columns = (\"x_scale\", \"y_scale\", \"z_scale\")\n",
    "scale_info = read_foreground_placement_info(metrics=metrics, name=\"scale\", columns=scale_columns)\n",
    "scale_info.head(5)"
   ]
  },
  {
   "cell_type": "code",
   "execution_count": null,
   "metadata": {
    "scrolled": true
   },
   "outputs": [],
   "source": [
    "histogram_plot(\n",
    "    scale_info, \n",
    "    x=\"x_scale\",  \n",
    "    x_title=\"Scale\",\n",
    "    y_title=\"Frequency\",\n",
    "    title=\"Distribution of Foreground Scale along X direction\",\n",
    "    max_samples=max_samples\n",
    ")"
   ]
  },
  {
   "cell_type": "code",
   "execution_count": null,
   "metadata": {
    "scrolled": true
   },
   "outputs": [],
   "source": [
    "histogram_plot(\n",
    "    scale_info, \n",
    "    x=\"y_scale\",  \n",
    "    x_title=\"Scale\",\n",
    "    y_title=\"Frequency\",\n",
    "    title=\"Distribution of Foreground Scale along Y direction\",\n",
    "    max_samples=max_samples\n",
    ")"
   ]
  },
  {
   "cell_type": "code",
   "execution_count": null,
   "metadata": {
    "scrolled": true
   },
   "outputs": [],
   "source": [
    "histogram_plot(\n",
    "    scale_info, \n",
    "    x=\"z_scale\",  \n",
    "    x_title=\"Scale\",\n",
    "    y_title=\"Frequency\",\n",
    "    title=\"Distribution of Foreground Object Scale along Z direction\",\n",
    "    max_samples=max_samples\n",
    ")"
   ]
  },
  {
   "cell_type": "markdown",
   "metadata": {},
   "source": [
    "### Foreground Position Info"
   ]
  },
  {
   "cell_type": "code",
   "execution_count": null,
   "metadata": {
    "scrolled": true
   },
   "outputs": [],
   "source": [
    "pos_columns = (\"x_pos\", \"y_pos\", \"z_pos\")\n",
    "pos_info = read_foreground_placement_info(metrics=metrics, name=\"position\", columns=pos_columns)\n",
    "pos_info.head(5)"
   ]
  },
  {
   "cell_type": "code",
   "execution_count": null,
   "metadata": {
    "scrolled": true
   },
   "outputs": [],
   "source": [
    "histogram_plot(\n",
    "    pos_info, \n",
    "    x=\"x_pos\",\n",
    "    x_title=\"Position\",\n",
    "    y_title=\"Frequency\",\n",
    "    title=\"Distribution of Foreground Position along X direction\",\n",
    "    max_samples=max_samples\n",
    ")"
   ]
  },
  {
   "cell_type": "code",
   "execution_count": null,
   "metadata": {
    "scrolled": true
   },
   "outputs": [],
   "source": [
    "histogram_plot(\n",
    "    pos_info, \n",
    "    x=\"y_pos\",\n",
    "    x_title=\"Position\",\n",
    "    y_title=\"Frequency\",\n",
    "    title=\"Distribution of Foreground Position along Y direction\",\n",
    "    max_samples=max_samples\n",
    ")"
   ]
  },
  {
   "cell_type": "code",
   "execution_count": null,
   "metadata": {
    "scrolled": true
   },
   "outputs": [],
   "source": [
    "histogram_plot(\n",
    "    pos_info, \n",
    "    x=\"z_pos\",\n",
    "    x_title=\"Position\",\n",
    "    y_title=\"Frequency\",\n",
    "    title=\"Distribution of Foreground Position along Z direction\",\n",
    "    max_samples=max_samples\n",
    ")"
   ]
  },
  {
   "cell_type": "markdown",
   "metadata": {},
   "source": [
    "### Lighting info \n",
    "There are 4 lights present in the SynthDet project. Statistics for each light are presented below."
   ]
  },
  {
   "cell_type": "code",
   "execution_count": null,
   "metadata": {
    "scrolled": true
   },
   "outputs": [],
   "source": [
    "lighting_info_definition_id = \"939248ee-668a-4e98-8e79-e7909f034a47\"\n",
    "x_y_columns = [\"x_rotation\", \"y_rotation\"]\n",
    "color_columns = [\"color.r\", \"color.g\", \"color.b\", \"color.a\"]\n",
    "other_columns = [\"intensity\", \"enabled\", \"lightName\"]\n",
    "\n",
    "def read_lighting_info(metrics, light_name=None):\n",
    "    filtered_metrics = metrics.filter_metrics(lighting_info_definition_id)\n",
    "    filtered_metrics = filtered_metrics.reset_index()\n",
    "    colors = pd.json_normalize(filtered_metrics[\"color\"])\n",
    "    colors.columns = color_columns\n",
    "    \n",
    "    combined = pd.concat([filtered_metrics[x_y_columns], filtered_metrics[other_columns], colors], axis=1, join=\"inner\")\n",
    "    filter_combined = combined[combined[\"lightName\"]==light_name]\n",
    "    return filter_combined"
   ]
  },
  {
   "cell_type": "markdown",
   "metadata": {},
   "source": [
    "#### Directional Light_Background_1_Intermittent"
   ]
  },
  {
   "cell_type": "code",
   "execution_count": null,
   "metadata": {
    "scrolled": true
   },
   "outputs": [],
   "source": [
    "lighting_info = read_lighting_info(metrics, light_name=\"Directional Light_Background_1_Intermittent\")\n",
    "lighting_info.head(5)"
   ]
  },
  {
   "cell_type": "code",
   "execution_count": null,
   "metadata": {
    "scrolled": true
   },
   "outputs": [],
   "source": [
    "rotation_plot(\n",
    "    lighting_info,\n",
    "    x=\"x_rotation\",\n",
    "    y=\"y_rotation\",\n",
    "    title=\"Light orientations\",\n",
    "    max_samples=max_samples\n",
    ")"
   ]
  },
  {
   "cell_type": "code",
   "execution_count": null,
   "metadata": {
    "scrolled": true
   },
   "outputs": [],
   "source": [
    "histogram_plot(\n",
    "    lighting_info, \n",
    "    x=\"x_rotation\",  \n",
    "    x_title=\"Lighting Rotation (Degree)\",\n",
    "    y_title=\"Frequency\",\n",
    "    title=\"Distribution of Lighting Rotations along X direction\",\n",
    "    max_samples=max_samples\n",
    ")"
   ]
  },
  {
   "cell_type": "code",
   "execution_count": null,
   "metadata": {
    "scrolled": true
   },
   "outputs": [],
   "source": [
    "histogram_plot(\n",
    "    lighting_info, \n",
    "    x=\"y_rotation\",  \n",
    "    x_title=\"Lighting Rotation (Degree)\",\n",
    "    y_title=\"Frequency\",\n",
    "    title=\"Distribution of Lighting Rotations along Y direction\",\n",
    "    max_samples=max_samples\n",
    ")"
   ]
  },
  {
   "cell_type": "code",
   "execution_count": null,
   "metadata": {
    "scrolled": true
   },
   "outputs": [],
   "source": [
    "histogram_plot(\n",
    "    lighting_info, \n",
    "    x=\"color.r\",  \n",
    "    x_title=\"Lighting Color\",\n",
    "    y_title=\"Frequency\",\n",
    "    title=\"Distribution of Lighting Color Redness\",\n",
    "    max_samples=max_samples\n",
    ")"
   ]
  },
  {
   "cell_type": "code",
   "execution_count": null,
   "metadata": {
    "scrolled": true
   },
   "outputs": [],
   "source": [
    "histogram_plot(\n",
    "    lighting_info, \n",
    "    x=\"color.g\",  \n",
    "    x_title=\"Lighting Color\",\n",
    "    y_title=\"Frequency\",\n",
    "    title=\"Distribution of Lighting Color Greeness\",\n",
    "    max_samples=max_samples\n",
    ")"
   ]
  },
  {
   "cell_type": "code",
   "execution_count": null,
   "metadata": {
    "scrolled": true
   },
   "outputs": [],
   "source": [
    "histogram_plot(\n",
    "    lighting_info, \n",
    "    x=\"color.b\",  \n",
    "    x_title=\"Lighting Color\",\n",
    "    y_title=\"Frequency\",\n",
    "    title=\"Distribution of Lighting Color Blueness\",\n",
    "    max_samples=max_samples\n",
    ")"
   ]
  },
  {
   "cell_type": "code",
   "execution_count": null,
   "metadata": {
    "scrolled": true
   },
   "outputs": [],
   "source": [
    "histogram_plot(\n",
    "    lighting_info, \n",
    "    x=\"intensity\",  \n",
    "    x_title=\"Lighting Intensity\",\n",
    "    y_title=\"Frequency\",\n",
    "    title=\"Distribution of Lighting Intensity\",\n",
    "    max_samples=max_samples\n",
    ")"
   ]
  },
  {
   "cell_type": "code",
   "execution_count": null,
   "metadata": {
    "scrolled": true
   },
   "outputs": [],
   "source": [
    "histogram_plot(\n",
    "    lighting_info, \n",
    "    x=\"enabled\",  \n",
    "    x_title=\"Lighting Enabled States (Bool)\",\n",
    "    y_title=\"Frequency\",\n",
    "    title=\"Distribution of Lighting Enabled States\",\n",
    "    max_samples=max_samples\n",
    ")"
   ]
  },
  {
   "cell_type": "markdown",
   "metadata": {},
   "source": [
    "#### Directional Light_All_0"
   ]
  },
  {
   "cell_type": "code",
   "execution_count": null,
   "metadata": {
    "scrolled": true
   },
   "outputs": [],
   "source": [
    "lighting_info = read_lighting_info(metrics, light_name=\"Directional Light_All_0\")\n",
    "lighting_info.head(5)"
   ]
  },
  {
   "cell_type": "code",
   "execution_count": null,
   "metadata": {
    "scrolled": true
   },
   "outputs": [],
   "source": [
    "rotation_plot(\n",
    "    lighting_info,\n",
    "    x=\"x_rotation\",\n",
    "    y=\"y_rotation\",\n",
    "    title=\"Light orientations\",\n",
    "    max_samples=max_samples\n",
    ")"
   ]
  },
  {
   "cell_type": "code",
   "execution_count": null,
   "metadata": {
    "scrolled": true
   },
   "outputs": [],
   "source": [
    "histogram_plot(\n",
    "    lighting_info, \n",
    "    x=\"x_rotation\",  \n",
    "    x_title=\"Lighting Rotation (Degree)\",\n",
    "    y_title=\"Frequency\",\n",
    "    title=\"Distribution of Lighting Rotations along X direction\",\n",
    "    max_samples=max_samples\n",
    ")"
   ]
  },
  {
   "cell_type": "code",
   "execution_count": null,
   "metadata": {
    "scrolled": true
   },
   "outputs": [],
   "source": [
    "histogram_plot(\n",
    "    lighting_info, \n",
    "    x=\"y_rotation\",  \n",
    "    x_title=\"Lighting Rotation (Degree)\",\n",
    "    y_title=\"Frequency\",\n",
    "    title=\"Distribution of Lighting Rotations along Y direction\",\n",
    "    max_samples=max_samples\n",
    ")"
   ]
  },
  {
   "cell_type": "code",
   "execution_count": null,
   "metadata": {
    "scrolled": true
   },
   "outputs": [],
   "source": [
    "histogram_plot(\n",
    "    lighting_info, \n",
    "    x=\"color.r\",  \n",
    "    x_title=\"Lighting Color\",\n",
    "    y_title=\"Frequency\",\n",
    "    title=\"Distribution of Lighting Color Redness\",\n",
    "    max_samples=max_samples\n",
    ")"
   ]
  },
  {
   "cell_type": "code",
   "execution_count": null,
   "metadata": {
    "scrolled": true
   },
   "outputs": [],
   "source": [
    "histogram_plot(\n",
    "    lighting_info, \n",
    "    x=\"color.g\",  \n",
    "    x_title=\"Lighting Color\",\n",
    "    y_title=\"Frequency\",\n",
    "    title=\"Distribution of Lighting Color Greeness\",\n",
    "    max_samples=max_samples\n",
    ")"
   ]
  },
  {
   "cell_type": "code",
   "execution_count": null,
   "metadata": {
    "scrolled": true
   },
   "outputs": [],
   "source": [
    "histogram_plot(\n",
    "    lighting_info, \n",
    "    x=\"color.b\",  \n",
    "    x_title=\"Lighting Color\",\n",
    "    y_title=\"Frequency\",\n",
    "    title=\"Distribution of Lighting Color Blueness\",\n",
    "    max_samples=max_samples\n",
    ")"
   ]
  },
  {
   "cell_type": "code",
   "execution_count": null,
   "metadata": {
    "scrolled": true
   },
   "outputs": [],
   "source": [
    "histogram_plot(\n",
    "    lighting_info, \n",
    "    x=\"intensity\",  \n",
    "    x_title=\"Lighting Intensity\",\n",
    "    y_title=\"Frequency\",\n",
    "    title=\"Distribution of Lighting Intensity\",\n",
    "    max_samples=max_samples\n",
    ")"
   ]
  },
  {
   "cell_type": "code",
   "execution_count": null,
   "metadata": {
    "scrolled": true
   },
   "outputs": [],
   "source": [
    "histogram_plot(\n",
    "    lighting_info, \n",
    "    x=\"enabled\",  \n",
    "    x_title=\"Lighting Enabled States (Bool)\",\n",
    "    y_title=\"Frequency\",\n",
    "    title=\"Distribution of Lighting Enabled States\",\n",
    "    max_samples=max_samples\n",
    ")"
   ]
  },
  {
   "cell_type": "markdown",
   "metadata": {},
   "source": [
    "#### Directional Light_All_1"
   ]
  },
  {
   "cell_type": "code",
   "execution_count": null,
   "metadata": {
    "scrolled": true
   },
   "outputs": [],
   "source": [
    "lighting_info = read_lighting_info(metrics, light_name=\"Directional Light_All_1\")\n",
    "lighting_info.head(5)"
   ]
  },
  {
   "cell_type": "code",
   "execution_count": null,
   "metadata": {
    "scrolled": true
   },
   "outputs": [],
   "source": [
    "rotation_plot(\n",
    "    lighting_info,\n",
    "    x=\"x_rotation\",\n",
    "    y=\"y_rotation\",\n",
    "    title=\"Light orientations\",\n",
    "    max_samples=max_samples\n",
    ")"
   ]
  },
  {
   "cell_type": "code",
   "execution_count": null,
   "metadata": {
    "scrolled": true
   },
   "outputs": [],
   "source": [
    "histogram_plot(\n",
    "    lighting_info, \n",
    "    x=\"x_rotation\",  \n",
    "    x_title=\"Lighting Rotation (Degree)\",\n",
    "    y_title=\"Frequency\",\n",
    "    title=\"Distribution of Lighting Rotations along X direction\",\n",
    "    max_samples=max_samples\n",
    ")"
   ]
  },
  {
   "cell_type": "code",
   "execution_count": null,
   "metadata": {
    "scrolled": true
   },
   "outputs": [],
   "source": [
    "histogram_plot(\n",
    "    lighting_info, \n",
    "    x=\"y_rotation\",  \n",
    "    x_title=\"Lighting Rotation (Degree)\",\n",
    "    y_title=\"Frequency\",\n",
    "    title=\"Distribution of Lighting Rotations along Y direction\",\n",
    "    max_samples=max_samples\n",
    ")"
   ]
  },
  {
   "cell_type": "code",
   "execution_count": null,
   "metadata": {
    "scrolled": true
   },
   "outputs": [],
   "source": [
    "histogram_plot(\n",
    "    lighting_info, \n",
    "    x=\"color.r\",  \n",
    "    x_title=\"Lighting Color\",\n",
    "    y_title=\"Frequency\",\n",
    "    title=\"Distribution of Lighting Color Redness\",\n",
    "    max_samples=max_samples\n",
    ")"
   ]
  },
  {
   "cell_type": "code",
   "execution_count": null,
   "metadata": {
    "scrolled": true
   },
   "outputs": [],
   "source": [
    "histogram_plot(\n",
    "    lighting_info, \n",
    "    x=\"color.g\",  \n",
    "    x_title=\"Lighting Color\",\n",
    "    y_title=\"Frequency\",\n",
    "    title=\"Distribution of Lighting Color Greeness\",\n",
    "    max_samples=max_samples\n",
    ")"
   ]
  },
  {
   "cell_type": "code",
   "execution_count": null,
   "metadata": {
    "scrolled": true
   },
   "outputs": [],
   "source": [
    "histogram_plot(\n",
    "    lighting_info, \n",
    "    x=\"color.b\",  \n",
    "    x_title=\"Lighting Color\",\n",
    "    y_title=\"Frequency\",\n",
    "    title=\"Distribution of Lighting Color Blueness\",\n",
    "    max_samples=max_samples\n",
    ")"
   ]
  },
  {
   "cell_type": "code",
   "execution_count": null,
   "metadata": {
    "scrolled": true
   },
   "outputs": [],
   "source": [
    "histogram_plot(\n",
    "    lighting_info, \n",
    "    x=\"intensity\",  \n",
    "    x_title=\"Lighting Intensity\",\n",
    "    y_title=\"Frequency\",\n",
    "    title=\"Distribution of Lighting Intensity\",\n",
    "    max_samples=max_samples\n",
    ")"
   ]
  },
  {
   "cell_type": "code",
   "execution_count": null,
   "metadata": {
    "scrolled": true
   },
   "outputs": [],
   "source": [
    "histogram_plot(\n",
    "    lighting_info, \n",
    "    x=\"enabled\",  \n",
    "    x_title=\"Lighting Enabled States (Bool)\",\n",
    "    y_title=\"Frequency\",\n",
    "    title=\"Distribution of Lighting Enabled States\",\n",
    "    max_samples=max_samples\n",
    ")"
   ]
  },
  {
   "cell_type": "markdown",
   "metadata": {},
   "source": [
    "#### Directional Light_All_2"
   ]
  },
  {
   "cell_type": "code",
   "execution_count": null,
   "metadata": {
    "scrolled": true
   },
   "outputs": [],
   "source": [
    "lighting_info = read_lighting_info(metrics, light_name=\"Directional Light_All_2\")\n",
    "lighting_info.head(5)"
   ]
  },
  {
   "cell_type": "code",
   "execution_count": null,
   "metadata": {
    "scrolled": true
   },
   "outputs": [],
   "source": [
    "rotation_plot(\n",
    "    lighting_info,\n",
    "    x=\"x_rotation\",\n",
    "    y=\"y_rotation\",\n",
    "    title=\"Light orientations\",\n",
    "    max_samples=max_samples\n",
    ")"
   ]
  },
  {
   "cell_type": "code",
   "execution_count": null,
   "metadata": {
    "scrolled": true
   },
   "outputs": [],
   "source": [
    "histogram_plot(\n",
    "    lighting_info, \n",
    "    x=\"x_rotation\",  \n",
    "    x_title=\"Lighting Rotation (Degree)\",\n",
    "    y_title=\"Frequency\",\n",
    "    title=\"Distribution of Lighting Rotations along X direction\",\n",
    "    max_samples=max_samples\n",
    ")"
   ]
  },
  {
   "cell_type": "code",
   "execution_count": null,
   "metadata": {
    "scrolled": true
   },
   "outputs": [],
   "source": [
    "histogram_plot(\n",
    "    lighting_info, \n",
    "    x=\"y_rotation\",  \n",
    "    x_title=\"Lighting Rotation (Degree)\",\n",
    "    y_title=\"Frequency\",\n",
    "    title=\"Distribution of Lighting Rotations along Y direction\",\n",
    "    max_samples=max_samples\n",
    ")"
   ]
  },
  {
   "cell_type": "code",
   "execution_count": null,
   "metadata": {
    "scrolled": true
   },
   "outputs": [],
   "source": [
    "histogram_plot(\n",
    "    lighting_info, \n",
    "    x=\"color.r\",  \n",
    "    x_title=\"Lighting Color\",\n",
    "    y_title=\"Frequency\",\n",
    "    title=\"Distribution of Lighting Color Redness\",\n",
    "    max_samples=max_samples\n",
    ")"
   ]
  },
  {
   "cell_type": "code",
   "execution_count": null,
   "metadata": {
    "scrolled": true
   },
   "outputs": [],
   "source": [
    "histogram_plot(\n",
    "    lighting_info, \n",
    "    x=\"color.g\",  \n",
    "    x_title=\"Lighting Color\",\n",
    "    y_title=\"Frequency\",\n",
    "    title=\"Distribution of Lighting Color Greeness\",\n",
    "    max_samples=max_samples\n",
    ")"
   ]
  },
  {
   "cell_type": "code",
   "execution_count": null,
   "metadata": {
    "scrolled": true
   },
   "outputs": [],
   "source": [
    "histogram_plot(\n",
    "    lighting_info, \n",
    "    x=\"color.b\",  \n",
    "    x_title=\"Lighting Color\",\n",
    "    y_title=\"Frequency\",\n",
    "    title=\"Distribution of Lighting Color Blueness\",\n",
    "    max_samples=max_samples\n",
    ")"
   ]
  },
  {
   "cell_type": "code",
   "execution_count": null,
   "metadata": {
    "scrolled": true
   },
   "outputs": [],
   "source": [
    "histogram_plot(\n",
    "    lighting_info, \n",
    "    x=\"intensity\",  \n",
    "    x_title=\"Lighting Intensity\",\n",
    "    y_title=\"Frequency\",\n",
    "    title=\"Distribution of Lighting Intensity\",\n",
    "    max_samples=max_samples\n",
    ")"
   ]
  },
  {
   "cell_type": "code",
   "execution_count": null,
   "metadata": {
    "scrolled": true
   },
   "outputs": [],
   "source": [
    "histogram_plot(\n",
    "    lighting_info, \n",
    "    x=\"enabled\",  \n",
    "    x_title=\"Lighting Enabled States (Bool)\",\n",
    "    y_title=\"Frequency\",\n",
    "    title=\"Distribution of Lighting Enabled States\",\n",
    "    max_samples=max_samples\n",
    ")"
   ]
  },
  {
   "cell_type": "markdown",
   "metadata": {},
   "source": [
    "### Camera Info"
   ]
  },
  {
   "cell_type": "code",
   "execution_count": null,
   "metadata": {
    "scrolled": true
   },
   "outputs": [],
   "source": [
    "lighting_info_definition_id = \"a4b2253c-0eb2-4a90-9b20-6e77f1d13286\"\n",
    "camear_columns = [\"saturation\", \"contrast\", \"gaussianDofStart\", \"gaussianDofEnd\", \"gaussianDofRadius\"]\n",
    "\n",
    "def read_camera_info(metrics):\n",
    "    filtered_metrics = metrics.filter_metrics(lighting_info_definition_id)\n",
    "\n",
    "    return filtered_metrics[camear_columns]"
   ]
  },
  {
   "cell_type": "code",
   "execution_count": null,
   "metadata": {
    "scrolled": true
   },
   "outputs": [],
   "source": [
    "camera_info = read_camera_info(metrics)\n",
    "camera_info.head(5)"
   ]
  },
  {
   "cell_type": "code",
   "execution_count": null,
   "metadata": {
    "scrolled": true
   },
   "outputs": [],
   "source": [
    "histogram_plot(\n",
    "    camera_info, \n",
    "    x=\"saturation\",  \n",
    "    x_title=\"Camera Saturation\",\n",
    "    y_title=\"Frequency\",\n",
    "    title=\"Distribution of Camera Saturation\",\n",
    "    max_samples=max_samples\n",
    ")"
   ]
  },
  {
   "cell_type": "code",
   "execution_count": null,
   "metadata": {
    "scrolled": true
   },
   "outputs": [],
   "source": [
    "histogram_plot(\n",
    "    camera_info, \n",
    "    x=\"contrast\",  \n",
    "    x_title=\"Camera Contrast\",\n",
    "    y_title=\"Frequency\",\n",
    "    title=\"Distribution of Camera Contrast\",\n",
    "    max_samples=max_samples\n",
    ")"
   ]
  },
  {
   "cell_type": "code",
   "execution_count": null,
   "metadata": {
    "scrolled": true
   },
   "outputs": [],
   "source": [
    "histogram_plot(\n",
    "    camera_info, \n",
    "    x=\"gaussianDofStart\",  \n",
    "    x_title=\"Camera Gaussian Depth of Field Start\",\n",
    "    y_title=\"Frequency\",\n",
    "    title=\"Distribution of Camera Gaussian Depth of Field Start\",\n",
    "    max_samples=max_samples\n",
    ")"
   ]
  },
  {
   "cell_type": "code",
   "execution_count": null,
   "metadata": {
    "scrolled": true
   },
   "outputs": [],
   "source": [
    "histogram_plot(\n",
    "    camera_info, \n",
    "    x=\"gaussianDofEnd\",  \n",
    "    x_title=\"Camera Gaussian Depth of Field End\",\n",
    "    y_title=\"Frequency\",\n",
    "    title=\"Distribution of Camera Gaussian Depth of Field End\",\n",
    "    max_samples=max_samples\n",
    ")"
   ]
  },
  {
   "cell_type": "code",
   "execution_count": null,
   "metadata": {
    "scrolled": true
   },
   "outputs": [],
   "source": [
    "histogram_plot(\n",
    "    camera_info, \n",
    "    x=\"gaussianDofRadius\",  \n",
    "    x_title=\"Camera Gaussian Depth of Field Radius\",\n",
    "    y_title=\"Frequency\",\n",
    "    title=\"Distribution of Camera Gaussian Depth of Field Radius\",\n",
    "    max_samples=max_samples\n",
    ")"
   ]
  },
  {
   "cell_type": "markdown",
   "metadata": {},
   "source": [
    "## Annotation Visualization\n",
    "In the following sections we show how to load annotations from the Captures object and visualize them. Similar code can be used to consume annotations for model training or visualize and train on custom annotations."
   ]
  },
  {
   "cell_type": "markdown",
   "metadata": {},
   "source": [
    "### Unity Simulation [Optional]\n",
    "If the dataset was generated on Unity Simulation, the following cells can be used to download the images, captures and annotations in the dataset. Make sure you have enough disk space to store all files. For example, a dataset with 100K captures requires roughly 300GiB storage."
   ]
  },
  {
   "cell_type": "code",
   "execution_count": null,
   "metadata": {
    "scrolled": true
   },
   "outputs": [],
   "source": [
    "# downloader.download(source_uri=source_uri, output=data_root, include_binary=True)"
   ]
  },
  {
   "cell_type": "markdown",
   "metadata": {},
   "source": [
    "### Load captures"
   ]
  },
  {
   "cell_type": "code",
   "execution_count": null,
   "metadata": {
    "scrolled": true
   },
   "outputs": [],
   "source": [
    "from datasetinsights.datasets.unity_perception.captures import Captures\n",
    "cap = Captures(data_root)\n",
    "cap.captures.head(3)"
   ]
  },
  {
   "cell_type": "markdown",
   "metadata": {},
   "source": [
    "### Bounding Boxes\n",
    "In this section we render 2d bounding boxes on top of the captured images."
   ]
  },
  {
   "cell_type": "code",
   "execution_count": null,
   "metadata": {
    "scrolled": true
   },
   "outputs": [],
   "source": [
    "import os\n",
    "\n",
    "from ipywidgets import interact, interactive, fixed, interact_manual\n",
    "from PIL import Image\n",
    "\n",
    "from datasetinsights.stats.visualization.plots import plot_bboxes\n",
    "from datasetinsights.datasets.synthetic import SynDetection2D,read_bounding_box_2d\n",
    "\n",
    "bounding_box_definition_id = \"c31620e3-55ff-4af6-ae86-884aa0daa9b2\"\n",
    "dataset = SynDetection2D(data_path=data_root, def_id=bounding_box_definition_id)\n",
    "def draw_bounding_boxes(index):\n",
    "    image, bboxes = dataset[index]\n",
    "    return plot_bboxes(image, bboxes, dataset.label_mappings)"
   ]
  },
  {
   "cell_type": "code",
   "execution_count": null,
   "metadata": {
    "pycharm": {
     "name": "#%%\n"
    },
    "scrolled": true
   },
   "outputs": [],
   "source": [
    "from ipywidgets import interact\n",
    "\n",
    "# pick an index and visualize\n",
    "interact(draw_bounding_boxes, index=list(range(len(dataset))))"
   ]
  },
  {
   "cell_type": "markdown",
   "metadata": {
    "pycharm": {
     "name": "#%% md\n"
    }
   },
   "source": [
    "### 3D Ground Truth Bounding Boxes\n",
    "In this section we render 3d ground truth bounding boxes on top of the captured images."
   ]
  },
  {
   "cell_type": "code",
   "execution_count": null,
   "metadata": {
    "pycharm": {
     "name": "#%%\n"
    },
    "scrolled": true
   },
   "outputs": [],
   "source": [
    "import os\n",
    "import numpy as np\n",
    "\n",
    "from ipywidgets import interact\n",
    "from PIL import Image\n",
    "from datasetinsights.stats.visualization.plots import plot_bboxes3d\n",
    "from datasetinsights.datasets.synthetic import read_bounding_box_3d\n",
    "\n",
    "bounding_box_3d_defintion_id = \"0bfbe00d-00fa-4555-88d1-471b58449f5c\"\n",
    "def draw_bounding_boxes3d(index):\n",
    "    filename = os.path.join(data_root, box_captures.loc[index, \"filename\"])\n",
    "    annotations = box_captures.loc[index, \"annotation.values\"]\n",
    "    sensor = box_captures.loc[index, \"sensor\"]\n",
    "\n",
    "    if 'camera_intrinsic' in sensor:\n",
    "        projection = np.array(sensor[\"camera_intrinsic\"])\n",
    "    else:\n",
    "        projection = np.array([[1,0,0],[0,1,0],[0,0,1]])\n",
    "\n",
    "    image = Image.open(filename)\n",
    "    boxes = read_bounding_box_3d(annotations)\n",
    "    img_with_boxes = plot_bboxes3d(image, boxes, projection)\n",
    "    img_with_boxes.thumbnail([1024,1024], Image.ANTIALIAS)\n",
    "    display(img_with_boxes)\n",
    "\n",
    "try:\n",
    "    box_captures = cap.filter(def_id=bounding_box_3d_defintion_id)\n",
    "    interact(draw_bounding_boxes3d, index=(0, box_captures.shape[0]))\n",
    "except DefinitionIDError:\n",
    "    print(\"No bounding boxes found\")"
   ]
  },
  {
   "cell_type": "markdown",
   "metadata": {},
   "source": [
    "## Semantic Segmentation\n",
    "In this section we render the semantic segmentation images on top of the captured images."
   ]
  },
  {
   "cell_type": "code",
   "execution_count": null,
   "metadata": {
    "scrolled": true
   },
   "outputs": [],
   "source": [
    "def draw_with_segmentation(index, opacity):\n",
    "    filename = os.path.join(data_root, seg_captures.loc[index, \"filename\"])\n",
    "    seg_filename = os.path.join(data_root, seg_captures.loc[index, \"annotation.filename\"])\n",
    "    \n",
    "    image = Image.open(filename)\n",
    "    seg = Image.open(seg_filename)\n",
    "    img_with_seg = Image.blend(image, seg, opacity)\n",
    "    img_with_seg.thumbnail([1024,1024], Image.ANTIALIAS)\n",
    "    display(img_with_seg)\n",
    "    \n",
    "try:\n",
    "    semantic_segmentation_definition_id = \"12f94d8d-5425-4deb-9b21-5e53ad957d66\"\n",
    "    seg_captures = cap.filter(def_id=semantic_segmentation_definition_id)\n",
    "    interact(draw_with_segmentation, index=(0, seg_captures.shape[0]), opacity=(0.0, 1.0))\n",
    "except DefinitionIDError:\n",
    "    print(\"No semantic segmentation images found\")"
   ]
  },
  {
   "cell_type": "markdown",
   "metadata": {},
   "source": [
    "## Instance Segmentation\n",
    "In this section we render the instance segmentation images on top of the captured images. Image IDs are mapped to an RGBA color value, below the image we include a preview of the mapping between colors and IDs."
   ]
  },
  {
   "cell_type": "code",
   "execution_count": null,
   "metadata": {
    "scrolled": true
   },
   "outputs": [],
   "source": [
    "def instance_sorter(instance):\n",
    "    return instance[\"instance_id\"]\n",
    "\n",
    "def draw_with_instance_segmentation(index, opacity):\n",
    "    filename = os.path.join(data_root, inst_caps.loc[index, \"filename\"])\n",
    "    seg_filename = os.path.join(data_root, inst_caps.loc[index, \"annotation.filename\"])\n",
    "\n",
    "    image = Image.open(filename)\n",
    "    seg = Image.open(seg_filename)\n",
    "    img_with_seg = Image.blend(image, seg, opacity)\n",
    "    img_with_seg.thumbnail([1024,1024], Image.ANTIALIAS)\n",
    "    display(img_with_seg)\n",
    "\n",
    "    anns = inst_caps.loc[index, \"annotation.values\"].copy()\n",
    "    anns.sort(key=instance_sorter)\n",
    "\n",
    "    count = min(5, len(anns))\n",
    "    print(\"First {} ID entries:\".format(count))\n",
    "\n",
    "    for i in range(count):\n",
    "        color = anns[i].get(\"color\")\n",
    "        print (\"{} => Color({:>3}, {:>3}, {:>3})\".format(anns[i].get(\"instance_id\"), color.get(\"r\"), color.get(\"g\"), color.get(\"b\")))\n",
    "\n",
    "try:\n",
    "    inst_seg_def_id = \"1ccebeb4-5886-41ff-8fe0-f911fa8cbcdf\"\n",
    "    inst_caps = cap.filter(def_id=inst_seg_def_id)\n",
    "    interact(draw_with_instance_segmentation, index=(0, inst_caps.shape[0]), opacity=(0.0, 1.0))\n",
    "except DefinitionIDError:\n",
    "    print(\"No instance segmentation images found\")\n"
   ]
  }
 ],
 "metadata": {
  "kernelspec": {
   "display_name": "notebook",
   "language": "python",
   "name": "notebook"
  },
  "language_info": {
   "codemirror_mode": {
    "name": "ipython",
    "version": 3
   },
   "file_extension": ".py",
   "mimetype": "text/x-python",
   "name": "python",
   "nbconvert_exporter": "python",
   "pygments_lexer": "ipython3",
   "version": "3.8.8"
  }
 },
 "nbformat": 4,
 "nbformat_minor": 4
}
